{
  "nbformat": 4,
  "nbformat_minor": 0,
  "metadata": {
    "colab": {
      "provenance": [],
      "gpuType": "T4"
    },
    "kernelspec": {
      "name": "python3",
      "display_name": "Python 3"
    },
    "language_info": {
      "name": "python"
    },
    "accelerator": "GPU"
  },
  "cells": [
    {
      "cell_type": "code",
      "execution_count": 1,
      "metadata": {
        "id": "IEFd8x0YDb4Y"
      },
      "outputs": [],
      "source": [
        "import torch\n",
        "import torch.nn as nn\n",
        "import torch.nn.functional as F\n",
        "import matplotlib.pyplot as plt\n",
        "import requests"
      ]
    },
    {
      "cell_type": "code",
      "source": [
        "import os\n",
        "import requests\n",
        "\n",
        "url = \"https://raw.githubusercontent.com/karpathy/char-rnn/master/data/tinyshakespeare/input.txt\"\n",
        "filename = \"input.txt\"\n",
        "\n",
        "if not os.path.exists(filename):\n",
        "    print(f\"Downloading {filename}...\")\n",
        "    try:\n",
        "        response = requests.get(url, stream=True)\n",
        "        response.raise_for_status() # Raise an HTTPError for bad responses (4xx or 5xx)\n",
        "        with open(filename, 'wb') as f:\n",
        "            for chunk in response.iter_content(chunk_size=8192):\n",
        "                f.write(chunk)\n",
        "        print(f\"{filename} downloaded successfully.\")\n",
        "    except requests.exceptions.RequestException as e:\n",
        "        print(f\"Error downloading {url}: {e}\")\n",
        "        # Optional: Clean up partially downloaded file if error occurred\n",
        "        if os.path.exists(filename):\n",
        "            os.remove(filename)\n",
        "else:\n",
        "    print(f\"{filename} already exists. Skipping download.\")"
      ],
      "metadata": {
        "colab": {
          "base_uri": "https://localhost:8080/"
        },
        "id": "Wn-G0HH3XKAJ",
        "outputId": "a8f6b7e6-b962-4df0-e419-6c1f3353f185"
      },
      "execution_count": 2,
      "outputs": [
        {
          "output_type": "stream",
          "name": "stdout",
          "text": [
            "Downloading input.txt...\n",
            "input.txt downloaded successfully.\n"
          ]
        }
      ]
    },
    {
      "cell_type": "code",
      "source": [
        "#Hyperparameters\n",
        "batch_size = 64 #Number of token chunks per batch #UPDATED\n",
        "context_length = 256 #Length of the token chunks. Andrej called this block size #UPDATED\n",
        "embedding_dim = 384 #The vector size of the token embeddings. Andrej used n_embed as the variable name. #UPDATED\n",
        "head_size1 = 16 #Self attention head size\n",
        "num_layers = 6 #Number of transformer block layers # NEW\n",
        "num_heads = 6  # NEW\n",
        "learning_rate = 3e-4 #UPDATED\n",
        "dropout = 0.2 #NEW\n",
        "max_iters = 5000 #Number of training iterations or steps.\n",
        "eval_interval = 500 #Number of steps between evaluating the validation set to see how our validation loss is doing. #UPDATED\n",
        "eval_iters = 200 #Number of steps to do on the validation set per each interval. We do more than 1 to get a more accurate overall valid loss\n",
        "device = 'cuda' if torch.cuda.is_available() else 'cpu' #Instead of using the cpu, we'll use the GPU if it's availble.\n",
        "\n",
        "TORCH_SEED = 1337\n",
        "torch.manual_seed(TORCH_SEED)\n",
        "\n",
        "#Dataset\n",
        "with open('input.txt','r',encoding='utf-8') as f:\n",
        "    text = f.read()\n",
        "vocab = sorted(list(set(text))) #Called chars in the video, but vocab is a more generic term. Both are correct.\n",
        "vocab_size = len(vocab)\n",
        "\n",
        "char2idx = {char:idx for idx,char in enumerate(vocab)}\n",
        "idx2char = {idx:char for char,idx in char2idx.items()}\n",
        "encode = lambda x: [char2idx[char] for char in x]\n",
        "decode = lambda idxs: ''.join([idx2char[idx] for idx in idxs])\n",
        "\n",
        "tokenized_text = torch.tensor(encode(text),dtype=torch.long)\n",
        "\n",
        "#Train / Valid split.\n",
        "train_test_split_idx = int(len(tokenized_text) * 0.9)\n",
        "train_data = tokenized_text[:train_test_split_idx]\n",
        "valid_data = tokenized_text[train_test_split_idx:]"
      ],
      "metadata": {
        "id": "88AiTIzO9TeB"
      },
      "execution_count": 47,
      "outputs": []
    },
    {
      "cell_type": "code",
      "source": [
        "def plot_losses(losses):\n",
        "    train_losses = [o['train'] for o in losses if o.get('train') is not None]\n",
        "    valid_losses = [o['valid'] for o in losses if o.get('valid') is not None]\n",
        "    plt.plot(train_losses, label='Training Loss')\n",
        "    plt.plot(valid_losses, label='Validation Loss')\n",
        "    plt.ylabel('Loss')\n",
        "    plt.title('Losses')\n",
        "    plt.legend()\n",
        "    plt.show()"
      ],
      "metadata": {
        "id": "8PxaH2oR9Tgx"
      },
      "execution_count": 48,
      "outputs": []
    },
    {
      "cell_type": "code",
      "source": [
        "def get_batch(split:str, batch_size:int=batch_size, context_length:int=context_length):\n",
        "    #Function to get a batch of data from the train or valid dataset\n",
        "    data = train_data if split == 'train' else valid_data\n",
        "    idxs = torch.randint(low=0, high=len(data)-context_length, size=(batch_size,))\n",
        "    x = torch.stack([data[idx:idx+context_length] for idx in idxs])\n",
        "    y = torch.stack([data[idx+1:idx+context_length+1] for idx in idxs])\n",
        "    x,y = x.to(device), y.to(device) #Send data to the GPU if available\n",
        "    return x,y\n",
        "\n",
        "@torch.no_grad()\n",
        "def estimate_loss():\n",
        "    out = {}\n",
        "    model.eval()\n",
        "    for split in ['train','valid']:\n",
        "        losses = torch.zeros(eval_iters)\n",
        "        for k in range(eval_iters):\n",
        "            x_batch, y_batch = get_batch(split)\n",
        "            logits, loss = model(x_batch, y_batch)\n",
        "            losses[k] = loss.item()\n",
        "        out[split] = losses.mean()\n",
        "    model.train()\n",
        "    return out"
      ],
      "metadata": {
        "id": "XQ2fzdqZ9TjS"
      },
      "execution_count": 49,
      "outputs": []
    },
    {
      "cell_type": "code",
      "source": [
        "class FeedForwardNetwork(nn.Module):\n",
        "    \"\"\"A simple linear network followed by a non-linearity\"\"\"\n",
        "    def __init__(self, embedding_dim:int=embedding_dim, dropout:float=dropout):\n",
        "        super().__init__()\n",
        "        self.embedding_dim = embedding_dim\n",
        "        self.dropout = dropout\n",
        "        self.ffn = nn.Sequential(\n",
        "            nn.Linear(in_features=self.embedding_dim, out_features=self.embedding_dim*4),\n",
        "            nn.ReLU(),\n",
        "            nn.Linear(in_features=self.embedding_dim*4, out_features=self.embedding_dim),\n",
        "            nn.Dropout(dropout), #NEW\n",
        "        )\n",
        "    def forward(self, x):\n",
        "        return self.ffn(x)"
      ],
      "metadata": {
        "id": "Wzb8J3uq9ToB"
      },
      "execution_count": 50,
      "outputs": []
    },
    {
      "cell_type": "code",
      "source": [
        "class Head(nn.Module):\n",
        "    \"\"\" one head of self attention \"\"\"\n",
        "    def __init__(self, head_size:int, embedding_dim:int=embedding_dim,\n",
        "                 context_length:int=context_length, dropout:float=dropout):\n",
        "        super().__init__()\n",
        "        self.embedding_dim = embedding_dim\n",
        "        self.head_size = head_size\n",
        "        self.context_length = context_length\n",
        "        self.dropout = dropout\n",
        "\n",
        "        self.key_layer   = nn.Linear(in_features=self.embedding_dim, out_features=self.head_size, bias=False)\n",
        "        self.query_layer = nn.Linear(in_features=self.embedding_dim, out_features=self.head_size, bias=False)\n",
        "        self.value_layer = nn.Linear(in_features=self.embedding_dim, out_features=self.head_size, bias=False)\n",
        "        self.register_buffer('tril', torch.tril(torch.ones((self.context_length, self.context_length))))\n",
        "        self.dropout_layer = nn.Dropout(dropout) # NEW\n",
        "\n",
        "    def forward(self, x):\n",
        "        # input of size (batch, time-step, channels)\n",
        "        # output of size (batch, time-step, head size)\n",
        "        B,T,C = x.shape\n",
        "        assert T <= self.context_length\n",
        "        assert C == self.embedding_dim\n",
        "        q = self.query_layer(x) #(B,T,C) (batch size, context length, head_size)\n",
        "        k = self.key_layer(x) #(B,T,C) (batch size, context length, head_size)\n",
        "        v = self.value_layer(x) #(B,T,C) (batch size, context length, head_size)\n",
        "\n",
        "        #compute scores based on affinities\n",
        "        weights = (q @ k.transpose(-2,-1)) * self.head_size**-0.5 # (B,T,C) @ (B,C,T) -> (B,T,T) #FIXED ^-.5 is 1/sqrt() so need to mult, not div\n",
        "        weights = weights.masked_fill(self.tril[:T,:T] == 0, float('-inf')) #(B,T,T)\n",
        "        weights = F.softmax(input=weights, dim=-1) #(B,T,T)\n",
        "        weights = self.dropout_layer(weights) # NEW\n",
        "\n",
        "        #perform weighted aggragation of the values\n",
        "        out = weights @ v # (B,T,T) @ (B,T,C) -> (B,T,C)\n",
        "        return out\n",
        "\n",
        "# Head()(x)"
      ],
      "metadata": {
        "id": "ytg_S7ku9Tqh"
      },
      "execution_count": 51,
      "outputs": []
    },
    {
      "cell_type": "code",
      "source": [
        "class MultiHeadAttention(nn.Module):\n",
        "    def __init__(self, num_heads:int, head_size:int, embedding_dim:int=embedding_dim,\n",
        "                 context_length:int=context_length, dropout:float=dropout):\n",
        "        super().__init__()\n",
        "        self.num_heads = num_heads\n",
        "        self.head_size = head_size\n",
        "        self.embedding_dim = embedding_dim\n",
        "        self.context_length = context_length\n",
        "        self.dropout = dropout\n",
        "\n",
        "        self.heads = nn.ModuleList([\n",
        "            Head(head_size=self.head_size, embedding_dim=self.embedding_dim,\n",
        "                 context_length=self.context_length)\n",
        "            for _ in range(self.num_heads)])\n",
        "\n",
        "        self.projection_layer = nn.Linear(in_features=self.embedding_dim, out_features=self.embedding_dim, bias=True)\n",
        "        self.dropout_layer = nn.Dropout(dropout) # NEW\n",
        "\n",
        "    def forward(self, x):\n",
        "        out = torch.cat([h(x) for h in self.heads], dim=-1)\n",
        "        out = self.projection_layer(out)\n",
        "        out = self.dropout_layer(out) # NEW\n",
        "        return out"
      ],
      "metadata": {
        "id": "WTOFVVFv9TtK"
      },
      "execution_count": 52,
      "outputs": []
    },
    {
      "cell_type": "code",
      "source": [
        "class TransformerBlock(nn.Module):\n",
        "    \"\"\"Transformer Block: Communication folled by computation.\"\"\"\n",
        "    def __init__(self, num_heads:int, embedding_dim:int=embedding_dim, context_length:int=context_length,\n",
        "                 dropout:float=dropout): #UPDATED\n",
        "        #embedding_dim: embedding dimension, num_heads: the number of heads that we want\n",
        "        super().__init__()\n",
        "        self.embedding_dim = embedding_dim\n",
        "        self.context_length = context_length\n",
        "        self.head_size = embedding_dim // num_heads\n",
        "        self.num_heads = num_heads\n",
        "        self.dropout = dropout # NEW\n",
        "\n",
        "        self.multi_self_attention_heads_layer = MultiHeadAttention(num_heads=num_heads, head_size=self.head_size,\n",
        "                                                                   embedding_dim=embedding_dim, context_length=context_length,\n",
        "                                                                   dropout=dropout) #UPDATED\n",
        "        self.feed_forward_network = FeedForwardNetwork(embedding_dim=self.embedding_dim, dropout=dropout)\n",
        "        self.layer_norm_1 = nn.LayerNorm(normalized_shape=self.embedding_dim)\n",
        "        self.layer_norm_2 = nn.LayerNorm(normalized_shape=self.embedding_dim)\n",
        "\n",
        "    def forward(self, x):\n",
        "        x = x + self.multi_self_attention_heads_layer(self.layer_norm_1(x))\n",
        "        x = x + self.feed_forward_network(self.layer_norm_2(x))\n",
        "        return x\n",
        ""
      ],
      "metadata": {
        "id": "Ll20W4Ry9Tz7"
      },
      "execution_count": 53,
      "outputs": []
    },
    {
      "cell_type": "code",
      "source": [
        "%%time\n",
        "#| output: true\n",
        "torch.manual_seed(TORCH_SEED)\n",
        "class TransformerLanguageModel(nn.Module):\n",
        "    def __init__(self, head_size:int, vocab_size:int=vocab_size, embedding_dim:int=embedding_dim, context_length:int=context_length,\n",
        "                 num_layers:int=num_layers, dropout:float=dropout, num_heads:int=num_heads): #UPDATED\n",
        "        super().__init__()\n",
        "        self.vocab_size = vocab_size\n",
        "        self.embedding_dim = embedding_dim\n",
        "        self.context_length = context_length\n",
        "        self.head_size = head_size\n",
        "        self.num_layers = num_layers #NEW\n",
        "        self.dropout = dropout\n",
        "\n",
        "        self.token_embedding_table = nn.Embedding(num_embeddings=self.vocab_size, embedding_dim=self.embedding_dim)\n",
        "        self.token_position_embedding_table = nn.Embedding(num_embeddings=self.context_length, embedding_dim=self.embedding_dim)\n",
        "\n",
        "        self.transformer_blocks = nn.Sequential(*([\n",
        "            TransformerBlock(embedding_dim=embedding_dim, num_heads=num_heads, context_length=context_length,\n",
        "                             dropout=self.dropout) for _ in range(self.num_layers)]+[\n",
        "            nn.LayerNorm(embedding_dim)\n",
        "        ])) #UPDATED\n",
        "        self.language_model_head_linear_layer = nn.Linear(in_features=self.embedding_dim, out_features=self.vocab_size)\n",
        "\n",
        "    def forward(self, idx, targets=None):\n",
        "        #Both idx and targets are (B,T) Batch x Time array of integers\n",
        "        B,T = idx.shape\n",
        "        token_embeddings = self.token_embedding_table(idx) #(B,T,C) Batch, Time, Channel\n",
        "        token_position_embeddings = self.token_position_embedding_table(torch.arange(T, device=device)) #(T,C)\n",
        "        x = token_embeddings + token_position_embeddings\n",
        "        x = self.transformer_blocks(x)\n",
        "        logits = self.language_model_head_linear_layer(x) #(B,T,C) Where C is now token logits of size vocab_size\n",
        "\n",
        "        if targets is not None:\n",
        "            B,T,C = logits.shape\n",
        "            logits_reshaped = logits.view(B*T,C)\n",
        "            targets_reshaped = targets.view(B*T)\n",
        "            loss = F.cross_entropy(input=logits_reshaped, target=targets_reshaped)\n",
        "        else:\n",
        "            loss=None\n",
        "        return logits, loss\n",
        "\n",
        "    def generate(self, idx, max_new_tokens):\n",
        "        #idx is (B,T) array of indicies in the current context\n",
        "        for _ in range(max_new_tokens):\n",
        "            #Crop idx to the max size of our positional embeddings table\n",
        "            idx_crop = idx[:,-self.context_length:]\n",
        "            #Get predictions\n",
        "            logits, loss = self(idx_crop)\n",
        "            #Get the last time step from logits where the dimensions of the logits are (B,T,C)\n",
        "            logits_last_timestep = logits[:,-1,:] #Becomes (B,C)\n",
        "            #Apply softmax to get probabilities\n",
        "            probs = F.softmax(input=logits_last_timestep, dim=-1) #(B,C)\n",
        "            #Sample from the probs distribution.\n",
        "            idx_next = torch.multinomial(input=probs, num_samples=1) #(B,1) Returns (B,idxs) where idxs are random integer indicies.\n",
        "            #Append the sampled indexes idx_next to idx\n",
        "            idx = torch.cat((idx, idx_next), dim=1) #(B, T+1)\n",
        "        return idx\n",
        "\n",
        "model = TransformerLanguageModel(head_size=head_size1, vocab_size=vocab_size, embedding_dim=embedding_dim, context_length=context_length)\n",
        "model = model.to(device)\n",
        "optimizer = torch.optim.AdamW(params=model.parameters(), lr=learning_rate)\n",
        "tracked_losses = list()\n",
        "for step in range(max_iters):\n",
        "    if step % eval_iters == 0 or step == max_iters-1:\n",
        "        losses = estimate_loss()\n",
        "        tracked_losses.append(losses)\n",
        "        print('Step:',step,'Training Loss:',round(losses['train'].item(),3),'Validation Loss:',round(losses['valid'].item(),3))\n",
        "\n",
        "    xb,yb = get_batch('train')\n",
        "    logits, loss = model(xb,yb)\n",
        "    optimizer.zero_grad(set_to_none=True)\n",
        "    loss.backward()\n",
        "    optimizer.step()\n",
        "\n",
        "plot_losses(tracked_losses)\n",
        "context = torch.zeros((1,1), dtype=torch.long, device=device)\n",
        "print(decode(model.generate(context,max_new_tokens=500)[0].tolist()))"
      ],
      "metadata": {
        "colab": {
          "base_uri": "https://localhost:8080/",
          "height": 1000
        },
        "id": "HbWiIV9u9T2j",
        "outputId": "f73fb391-d1e4-4823-89d0-258243dd82f4"
      },
      "execution_count": 54,
      "outputs": [
        {
          "output_type": "stream",
          "name": "stdout",
          "text": [
            "Step: 0 Training Loss: 4.285 Validation Loss: 4.282\n",
            "Step: 200 Training Loss: 2.392 Validation Loss: 2.415\n",
            "Step: 400 Training Loss: 2.012 Validation Loss: 2.09\n",
            "Step: 600 Training Loss: 1.773 Validation Loss: 1.912\n",
            "Step: 800 Training Loss: 1.632 Validation Loss: 1.809\n",
            "Step: 1000 Training Loss: 1.535 Validation Loss: 1.725\n",
            "Step: 1200 Training Loss: 1.465 Validation Loss: 1.667\n",
            "Step: 1400 Training Loss: 1.413 Validation Loss: 1.617\n",
            "Step: 1600 Training Loss: 1.37 Validation Loss: 1.594\n",
            "Step: 1800 Training Loss: 1.336 Validation Loss: 1.567\n",
            "Step: 2000 Training Loss: 1.31 Validation Loss: 1.552\n",
            "Step: 2200 Training Loss: 1.283 Validation Loss: 1.525\n",
            "Step: 2400 Training Loss: 1.261 Validation Loss: 1.514\n",
            "Step: 2600 Training Loss: 1.238 Validation Loss: 1.51\n",
            "Step: 2800 Training Loss: 1.227 Validation Loss: 1.509\n",
            "Step: 3000 Training Loss: 1.204 Validation Loss: 1.492\n",
            "Step: 3200 Training Loss: 1.186 Validation Loss: 1.489\n",
            "Step: 3400 Training Loss: 1.169 Validation Loss: 1.486\n",
            "Step: 3600 Training Loss: 1.151 Validation Loss: 1.484\n",
            "Step: 3800 Training Loss: 1.139 Validation Loss: 1.484\n",
            "Step: 4000 Training Loss: 1.122 Validation Loss: 1.474\n",
            "Step: 4200 Training Loss: 1.107 Validation Loss: 1.477\n",
            "Step: 4400 Training Loss: 1.092 Validation Loss: 1.488\n",
            "Step: 4600 Training Loss: 1.078 Validation Loss: 1.49\n",
            "Step: 4800 Training Loss: 1.065 Validation Loss: 1.49\n",
            "Step: 4999 Training Loss: 1.049 Validation Loss: 1.491\n"
          ]
        },
        {
          "output_type": "display_data",
          "data": {
            "text/plain": [
              "<Figure size 640x480 with 1 Axes>"
            ],
            "image/png": "[encoded data removed]"
          },
          "metadata": {}
        },
        {
          "output_type": "stream",
          "name": "stdout",
          "text": [
            "\n",
            "But with prison: I will steel with my fame?\n",
            "For myself I'll reconceive without 'larganes' form,\n",
            "Provoke itself a lewful manifies.\n",
            "Affright the feelow me slaves of these weep,\n",
            "Or most lords, lets her rebals to do me here\n",
            "Tewlate the sun of Margary can see hence without\n",
            "With not thine twenty, cousin, their bearing their\n",
            "stephes; I am likers again.\n",
            "\n",
            "ISABELLA:\n",
            "As I was recelless lack to such, my lord,\n",
            "I pray now. Dorset, leave it with pains in thine!\n",
            "For Even bring you! and you writes must me go:\n",
            "no\n",
            "CPU times: user 1h 3min 10s, sys: 5min 28s, total: 1h 8min 38s\n",
            "Wall time: 1h 8min 56s\n"
          ]
        }
      ]
    },
    {
      "cell_type": "code",
      "source": [
        "import os\n",
        "from google.colab import drive\n",
        "drive.mount('/content/gdrive', force_remount=True)\n",
        "\n",
        "# Create the directory if it doesn't exist\n",
        "save_dir = \"/content/gdrive/MyDrive/Models\"\n",
        "os.makedirs(save_dir, exist_ok=True)\n",
        "\n",
        "# Now save the model to a file within that directory\n",
        "model_path = os.path.join(save_dir, \"shakespeare_model.pt\")  # Give your model a specific filename\n",
        "torch.save({\n",
        "    'epoch': 5000,\n",
        "    'model_state_dict': model.state_dict(),\n",
        "    'optimizer_state_dict': optimizer.state_dict(),\n",
        "    'loss': loss,\n",
        "}, model_path)\n",
        "\n",
        "print(f\"Model saved to {model_path}\")"
      ],
      "metadata": {
        "colab": {
          "base_uri": "https://localhost:8080/"
        },
        "id": "DBc64TxaNc7P",
        "outputId": "a77d43b2-36b5-415e-9b1d-3e0e215df4c3"
      },
      "execution_count": 70,
      "outputs": [
        {
          "output_type": "stream",
          "name": "stdout",
          "text": [
            "Mounted at /content/gdrive\n",
            "Model saved to /content/gdrive/MyDrive/Models/shakespeare_model.pt\n"
          ]
        }
      ]
    },
    {
      "cell_type": "code",
      "source": [
        "# Load the saved model checkpoint\n",
        "checkpoint_path = \"/content/gdrive/MyDrive/Models/shakespeare_model.pt\"\n",
        "checkpoint = torch.load(checkpoint_path)\n",
        "\n",
        "# If you need to recreate your model first (assuming same architecture as before)\n",
        "# This depends on your model definition - this is a placeholder example\n",
        "model = TransformerLanguageModel(\n",
        "    head_size = head_size1,\n",
        "    vocab_size = vocab_size,\n",
        "    embedding_dim=embedding_dim,\n",
        "    context_length=context_length,\n",
        "    num_heads=num_heads,\n",
        "    num_layers=num_layers,\n",
        "    dropout=dropout\n",
        ").to(device)\n",
        "\n",
        "# Load the saved state dictionary into your model\n",
        "model.load_state_dict(checkpoint['model_state_dict'])\n",
        "\n",
        "# Set the model to evaluation mode\n",
        "model.eval()\n",
        "\n",
        "# Function to estimate loss on validation data\n",
        "@torch.no_grad()  # Disable gradient calculation for evaluation\n",
        "def estimate_loss():\n",
        "    out = {}\n",
        "    model.eval()\n",
        "    for split in ['train', 'val']:\n",
        "        losses = torch.zeros(eval_iters)\n",
        "        for k in range(eval_iters):\n",
        "            X, Y = get_batch(split)\n",
        "            logits, loss = model(X, Y)\n",
        "            losses[k] = loss.item()\n",
        "        out[split] = losses.mean()\n",
        "    model.train()\n",
        "    return out\n",
        "\n",
        "# Run evaluation\n",
        "losses = estimate_loss()\n",
        "print(f\"Validation Loss: {losses['val']:.4f}\")\n",
        "print(f\"Training Loss: {losses['train']:.4f}\")\n"
      ],
      "metadata": {
        "colab": {
          "base_uri": "https://localhost:8080/"
        },
        "id": "E3esgNsQPJyX",
        "outputId": "02730077-4d46-40fb-cf5d-a8be70b02a50"
      },
      "execution_count": 73,
      "outputs": [
        {
          "output_type": "stream",
          "name": "stdout",
          "text": [
            "Validation Loss: 1.4919\n",
            "Training Loss: 1.0462\n",
            "Final training loss from saved checkpoint: 1.1550\n"
          ]
        }
      ]
    },
    {
      "cell_type": "code",
      "source": [],
      "metadata": {
        "id": "T2p9QBSEU9LV"
      },
      "execution_count": null,
      "outputs": []
    }
  ]
}